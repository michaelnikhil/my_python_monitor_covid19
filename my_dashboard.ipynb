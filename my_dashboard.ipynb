{
  "nbformat": 4,
  "nbformat_minor": 0,
  "metadata": {
    "colab": {
      "name": "my_dashboard.ipynb",
      "provenance": [],
      "collapsed_sections": [],
      "authorship_tag": "ABX9TyPWtlw+0ObNHpHb2DV7qEjv",
      "include_colab_link": true
    },
    "kernelspec": {
      "name": "python3",
      "display_name": "Python 3"
    }
  },
  "cells": [
    {
      "cell_type": "markdown",
      "metadata": {
        "id": "view-in-github",
        "colab_type": "text"
      },
      "source": [
        "<a href=\"https://colab.research.google.com/github/michaelnikhil/my_python_monitor_covid19/blob/master/my_dashboard.ipynb\" target=\"_parent\"><img src=\"https://colab.research.google.com/assets/colab-badge.svg\" alt=\"Open In Colab\"/></a>"
      ]
    },
    {
      "cell_type": "markdown",
      "metadata": {
        "id": "bA92Gq1NWL8r",
        "colab_type": "text"
      },
      "source": [
        ""
      ]
    },
    {
      "cell_type": "code",
      "metadata": {
        "id": "vDpAK7a6WMvI",
        "colab_type": "code",
        "colab": {
          "base_uri": "https://localhost:8080/",
          "height": 34
        },
        "outputId": "2ae80b7f-732f-4ee5-da3b-62f3950a2af4"
      },
      "source": [
        "!git init"
      ],
      "execution_count": 7,
      "outputs": [
        {
          "output_type": "stream",
          "text": [
            "Initialized empty Git repository in /content/.git/\n"
          ],
          "name": "stdout"
        }
      ]
    },
    {
      "cell_type": "markdown",
      "metadata": {
        "id": "npUBo2vaAsrK",
        "colab_type": "text"
      },
      "source": [
        "# COVID19 monitor\n",
        "\n",
        "Python notebook to display statistics on the virus cases/deaths\n",
        "\n",
        "Data from John Hopkins University, Center of System Science and Engineering\n",
        "https://github.com/CSSEGISandData\n"
      ]
    },
    {
      "cell_type": "markdown",
      "metadata": {
        "id": "A510KxNZvXC8",
        "colab_type": "text"
      },
      "source": [
        "Imports and class to load the data\n",
        "\n",
        "\n"
      ]
    },
    {
      "cell_type": "code",
      "metadata": {
        "id": "AVItaQ7cT8qI",
        "colab_type": "code",
        "colab": {}
      },
      "source": [
        "import pandas as pd\n",
        "import re\n",
        "import datetime\n",
        "import matplotlib.dates as mdates\n",
        "import numpy as np\n",
        "import matplotlib.pyplot as plt\n",
        "\n",
        "class LoadData():\n",
        "    def __init__(self, url):\n",
        "        self.url = url\n",
        "\n",
        "    def download(self):\n",
        "        try:\n",
        "            df = pd.read_csv(self.url, sep=',', na_values=['nan'], na_filter=True)\n",
        "        except:\n",
        "            # default local file\n",
        "            df = pd.read_csv('time_series_covid19_deaths_global.csv', sep=',', na_values=['nan'], na_filter=True)\n",
        "        return df\n",
        "\n",
        "    def retrieve_dates(self, df):\n",
        "        unformatted_dates = df.columns[4:len(df.columns)]\n",
        "        unformatted_dates2 = [re.sub(r\"\\d{2}$\", r\"2020\", x) for x in unformatted_dates]\n",
        "        dates = [datetime.datetime.strptime(x, '%m/%d/%Y') for x in unformatted_dates2]\n",
        "        return dates\n",
        "\n",
        "    def sort10(self, df):\n",
        "        tmp = df.sort_values(df.columns[-1], ascending=False)\n",
        "        lastDate = df.columns[-1]\n",
        "        return tmp['Country/Region'][0:10], tmp[tmp.columns[-1]][0:10], lastDate"
      ],
      "execution_count": 0,
      "outputs": []
    },
    {
      "cell_type": "markdown",
      "metadata": {
        "id": "oixBq9h_UF-K",
        "colab_type": "text"
      },
      "source": [
        "covid19_class : class Country"
      ]
    },
    {
      "cell_type": "code",
      "metadata": {
        "id": "TVXQO5Dawt7x",
        "colab_type": "code",
        "colab": {}
      },
      "source": [
        "class Country():\n",
        "    def __init__(self, df, country_name, dates):\n",
        "        self.df = df\n",
        "        self.country_name = country_name\n",
        "\n",
        "    def nvalues(self):\n",
        "        tmp = self.df[self.df['Country/Region'] == self.country_name]\n",
        "        tmp = tmp.drop(['Province/State', 'Country/Region', 'Lat', 'Long'], axis=1)\n",
        "        val = []\n",
        "        for col in tmp:\n",
        "            val.append(sum(tmp[col]))\n",
        "        return val"
      ],
      "execution_count": 0,
      "outputs": []
    },
    {
      "cell_type": "markdown",
      "metadata": {
        "id": "e3Mnbf2_zhNx",
        "colab_type": "text"
      },
      "source": [
        "Utility functions\n"
      ]
    },
    {
      "cell_type": "code",
      "metadata": {
        "id": "4Iw4wdSozyO7",
        "colab_type": "code",
        "colab": {}
      },
      "source": [
        "def daily_values(cumul):\n",
        "    val = [0]\n",
        "    for i in range(1, len(cumul)):\n",
        "        val.append(cumul[i] - cumul[i - 1])\n",
        "    return val\n",
        "\n",
        "\n",
        "def format_plot(fig1, ax0):\n",
        "    ax0.legend(fontsize=12, loc=0)\n",
        "    ax0.xaxis.set_major_formatter(mdates.DateFormatter('%d%b'))\n",
        "    ax0.yaxis.grid(True)\n",
        "    fig1.autofmt_xdate()"
      ],
      "execution_count": 0,
      "outputs": []
    },
    {
      "cell_type": "markdown",
      "metadata": {
        "id": "75msOFYL0DMU",
        "colab_type": "text"
      },
      "source": [
        "main script to collect the data"
      ]
    },
    {
      "cell_type": "code",
      "metadata": {
        "id": "jP5nItQQ0QfA",
        "colab_type": "code",
        "colab": {}
      },
      "source": [
        "# url of the data in csv file\n",
        "url1 = \"https://raw.githubusercontent.com/CSSEGISandData/COVID-19/master/csse_covid_19_data/csse_covid_19_time_series/time_series_covid19_deaths_global.csv\"\n",
        "url2 = \"https://raw.githubusercontent.com/CSSEGISandData/COVID-19/master/csse_covid_19_data/csse_covid_19_time_series/time_series_covid19_confirmed_global.csv\"\n",
        "\n",
        "# choose the countries to analyse\n",
        "list_of_countries = ['Italy', 'Spain', 'United Kingdom', 'France', 'US', 'Sweden']\n",
        "\n",
        "# import all data from the url\n",
        "death = LoadData(url1)\n",
        "data_death = death.download()\n",
        "conf = LoadData(url2)\n",
        "data_conf = conf.download()\n",
        "dates = death.retrieve_dates(data_death)\n",
        "\n",
        "# summary 10 biggest values\n",
        "country_sort10, death_sort10, lastDate = death.sort10(data_death)"
      ],
      "execution_count": 0,
      "outputs": []
    },
    {
      "cell_type": "markdown",
      "metadata": {
        "id": "gii5dh0y0yIq",
        "colab_type": "text"
      },
      "source": [
        "plots"
      ]
    },
    {
      "cell_type": "code",
      "metadata": {
        "id": "_x5U6svY00pQ",
        "colab_type": "code",
        "colab": {}
      },
      "source": [
        "# plot values per country and comparing between countries\n",
        "fig1, ax0 = plt.subplots(figsize=(8, 4))\n",
        "pos = np.arange(10)\n",
        "ax0.bar(pos, death_sort10, align='center')\n",
        "ax0.set_ylabel('deaths')\n",
        "plt.xticks(pos, country_sort10)\n",
        "ax0.set_title(lastDate)\n",
        "fig1.autofmt_xdate()\n",
        "\n",
        "fig10, (ax10, ax11) = plt.subplots(ncols=2, figsize=(10, 6))\n",
        "for country in list_of_countries:\n",
        "  # number of deaths\n",
        "  death_country = Country(data_death, country, dates)\n",
        "  n_death_country = Country(data_death, country, dates).nvalues()\n",
        "  n_death_daily = daily_values(n_death_country)\n",
        "  # number of confirmed cases\n",
        "  conf_country = Country(data_conf, country, dates)\n",
        "  n_conf_country = Country(data_conf, country, dates).nvalues()\n",
        "  n_conf_daily = daily_values(n_conf_country)\n",
        "\n",
        "  # plot per country\n",
        "  fig1, (ax0, ax1) = plt.subplots(nrows=2, figsize=(8, 6))\n",
        "  ax0.plot(dates, n_death_country, label='deaths')\n",
        "  # ax0.plot(dates,n_conf_country,label='confirmed cases')\n",
        "  ax0.set_ylabel('total', fontsize=12)\n",
        "  ax0.set_title(country)\n",
        "  format_plot(fig1, ax0)\n",
        "\n",
        "  ax1.plot(dates, n_death_daily, label='deaths')\n",
        "  # ax1.plot(dates,n_conf_daily,label='confirmed cases')\n",
        "  ax1.set_ylabel('daily', fontsize=12)\n",
        "  format_plot(fig1, ax1)\n",
        "\n",
        "  # compare countries\n",
        "  ax10.plot(dates, n_death_country, label=country)\n",
        "  ax10.set_ylabel('death', fontsize=12)\n",
        "  format_plot(fig10, ax10)\n",
        "\n",
        "  ax11.semilogy(dates, n_death_country, label=country)\n",
        "  ax11.set_ylabel('death', fontsize=12)\n",
        "  format_plot(fig10, ax11)"
      ],
      "execution_count": 0,
      "outputs": []
    },
    {
      "cell_type": "code",
      "metadata": {
        "id": "crv-aeWg7ZpO",
        "colab_type": "code",
        "colab": {}
      },
      "source": [
        ""
      ],
      "execution_count": 0,
      "outputs": []
    }
  ]
}