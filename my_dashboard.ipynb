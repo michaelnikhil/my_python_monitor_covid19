{
  "nbformat": 4,
  "nbformat_minor": 0,
  "metadata": {
    "colab": {
      "name": "my_dashboard.ipynb",
      "provenance": [],
      "collapsed_sections": [],
      "authorship_tag": "ABX9TyO/uNRqYdfnXDjt08sCPlrC",
      "include_colab_link": true
    },
    "kernelspec": {
      "name": "python3",
      "display_name": "Python 3"
    }
  },
  "cells": [
    {
      "cell_type": "markdown",
      "metadata": {
        "id": "view-in-github",
        "colab_type": "text"
      },
      "source": [
        "<a href=\"https://colab.research.google.com/github/michaelnikhil/my_python_monitor_covid19/blob/master/my_dashboard.ipynb\" target=\"_parent\"><img src=\"https://colab.research.google.com/assets/colab-badge.svg\" alt=\"Open In Colab\"/></a>"
      ]
    },
    {
      "cell_type": "markdown",
      "metadata": {
        "id": "npUBo2vaAsrK",
        "colab_type": "text"
      },
      "source": [
        "# COVID19 monitor\n",
        "\n",
        "Python notebook to display statistics on the virus cases/deaths\n",
        "\n",
        "Data from John Hopkins University, Center of System Science and Engineering\n",
        "https://github.com/CSSEGISandData\n"
      ]
    },
    {
      "cell_type": "markdown",
      "metadata": {
        "id": "A510KxNZvXC8",
        "colab_type": "text"
      },
      "source": [
        "Imports and class to load the data\n",
        "\n",
        "\n"
      ]
    },
    {
      "cell_type": "code",
      "metadata": {
        "id": "AVItaQ7cT8qI",
        "colab_type": "code",
        "colab": {}
      },
      "source": [
        "import pandas as pd\n",
        "import re\n",
        "import datetime\n",
        "import matplotlib.dates as mdates\n",
        "import numpy as np\n",
        "import matplotlib.pyplot as plt\n",
        "\n",
        "class LoadData():\n",
        "    def __init__(self, url):\n",
        "        self.url = url\n",
        "\n",
        "    def downloadCovid(self):\n",
        "        try:\n",
        "            df = pd.read_csv(self.url, sep=',', na_values=['nan'], na_filter=True)\n",
        "        except:\n",
        "            # dummy value\n",
        "            df = pd.Series(1, index=['France'])\n",
        "            print('error, using dummy data')\n",
        "        return df\n",
        "\n",
        "    def downloadPopulation(self):\n",
        "        try:\n",
        "            df = pd.read_csv(self.url, sep=',', na_values=['nan'], na_filter=True)\n",
        "            unique_country = set()\n",
        "            population = []\n",
        "            for item in df['Country_Region'].to_list():\n",
        "                unique_country.add(item)\n",
        "            for country in unique_country:\n",
        "                subset_df = df[df['Country_Region'] == country]\n",
        "                #pick the country level row = the row with no Province/state\n",
        "                population.append(subset_df[subset_df['Province_State'].isna()]['Population'])\n",
        "            country_population = pd.Series(population,index=unique_country)\n",
        "  \n",
        "        except:\n",
        "            country_population = pd.Series(1, index=['France'])\n",
        "            print('error population, using dummy data')\n",
        "        return country_population\n",
        "\n",
        "    def retrieve_dates(self, df):\n",
        "        unformatted_dates = df.columns[4:len(df.columns)]\n",
        "        unformatted_dates2 = [re.sub(r\"\\d{2}$\", r\"2020\", x) for x in unformatted_dates]\n",
        "        dates = [datetime.datetime.strptime(x, '%m/%d/%Y') for x in unformatted_dates2]\n",
        "        return dates\n"
      ],
      "execution_count": 45,
      "outputs": []
    },
    {
      "cell_type": "markdown",
      "metadata": {
        "id": "oixBq9h_UF-K",
        "colab_type": "text"
      },
      "source": [
        "covid19_class : class Country"
      ]
    },
    {
      "cell_type": "code",
      "metadata": {
        "id": "TVXQO5Dawt7x",
        "colab_type": "code",
        "colab": {}
      },
      "source": [
        "class Country():\n",
        "    def __init__(self, df_covid, series_pop, country_name):\n",
        "        self.df_covid = df_covid\n",
        "        self.series_pop = series_pop\n",
        "        self.country_name = country_name\n",
        "\n",
        "    def nvalues(self):\n",
        "        #extract covid cases, cumulate the different regions of a country\n",
        "        data = self.df_covid[self.df_covid['Country/Region'] == self.country_name]\n",
        "        data = data.drop(['Province/State', 'Country/Region', 'Lat', 'Long'], axis=1)\n",
        "        val_abs = []\n",
        "        for col in data:\n",
        "            val_abs.append(sum(data[col]))\n",
        "\n",
        "        #normalise with country population per million \n",
        "        val_rel=[]\n",
        "        for item in val_abs:\n",
        "            val_rel.append(1e6 *  item / (self.series_pop[self.country_name]).values[0] )\n",
        "        return val_abs, val_rel"
      ],
      "execution_count": 132,
      "outputs": []
    },
    {
      "cell_type": "markdown",
      "metadata": {
        "id": "e3Mnbf2_zhNx",
        "colab_type": "text"
      },
      "source": [
        "Utility functions\n"
      ]
    },
    {
      "cell_type": "code",
      "metadata": {
        "id": "4Iw4wdSozyO7",
        "colab_type": "code",
        "colab": {}
      },
      "source": [
        "def daily_values(cumul):\n",
        "    val = [0]\n",
        "    for i in range(1, len(cumul)):\n",
        "        val.append(cumul[i] - cumul[i - 1])\n",
        "    series_val = pd.Series(data=val)\n",
        "    return series_val\n",
        "\n",
        "def sortN(df_covid,series_pop,N):\n",
        "    cases_abs = pd.Series(dtype=float)\n",
        "    cases_rel = pd.Series(dtype=float)\n",
        "    #combine the covid cases to the population \n",
        "    for country in series_pop.index:\n",
        "        objCountry = Country(df_covid,series_pop, country)\n",
        "        #print(country)\n",
        "        val_abs, val_rel = objCountry.nvalues()\n",
        "        cases_abs=cases_abs.append(pd.Series([val_abs[-1]],index=[country]))  \n",
        "        cases_rel=cases_rel.append(pd.Series([val_rel[-1]],index=[country])) \n",
        "        \n",
        "    cases_abs=cases_abs.sort_values(axis=0,ascending=False)\n",
        "    cases_rel=cases_rel.sort_values(axis=0,ascending=False)\n",
        "    lastDate = df_covid.columns[-1]\n",
        "    return cases_abs[0:N], cases_rel[0:N], lastDate\n",
        "\n",
        "def format_plot(fig1, ax0):\n",
        "    ax0.legend(fontsize=12, loc=0)\n",
        "    ax0.xaxis.set_major_formatter(mdates.DateFormatter('%d%b'))\n",
        "    ax0.yaxis.grid(True)\n",
        "    fig1.autofmt_xdate()"
      ],
      "execution_count": 58,
      "outputs": []
    },
    {
      "cell_type": "markdown",
      "metadata": {
        "id": "75msOFYL0DMU",
        "colab_type": "text"
      },
      "source": [
        "main script to collect the data"
      ]
    },
    {
      "cell_type": "code",
      "metadata": {
        "id": "jP5nItQQ0QfA",
        "colab_type": "code",
        "colab": {}
      },
      "source": [
        "#rolling average size\n",
        "window_size=7\n",
        "\n",
        "# url of the data in csv file\n",
        "url1 = \"https://raw.githubusercontent.com/CSSEGISandData/COVID-19/master/csse_covid_19_data/csse_covid_19_time_series/time_series_covid19_deaths_global.csv\"\n",
        "url2 = \"https://raw.githubusercontent.com/CSSEGISandData/COVID-19/master/csse_covid_19_data/csse_covid_19_time_series/time_series_covid19_confirmed_global.csv\"\n",
        "url3 = \"https://raw.githubusercontent.com/CSSEGISandData/COVID-19/master/csse_covid_19_data/UID_ISO_FIPS_LookUp_Table.csv\"\n",
        "# import all covid data from the url\n",
        "death = LoadData(url1)\n",
        "data_death = death.downloadCovid()\n",
        "conf = LoadData(url2)\n",
        "data_conf = conf.downloadCovid()\n",
        "dates = death.retrieve_dates(data_death)\n",
        "\n",
        "#import world population\n",
        "population = LoadData(url3)\n",
        "country_population = population.downloadPopulation()\n",
        "\n",
        "# summary 10 biggest values - absolute and relatives\n",
        "country_sort10_abs, country_sort10_rel, lastDate = sortN(data_death,country_population,10)\n",
        "\n",
        "# choose the countries to analyse or use the 10 biggest value\n",
        "#list_of_countries = ['Italy', 'Spain', 'United Kingdom', 'France', 'US', 'Sweden']\n",
        "list_of_countries = country_sort10_abs.index.to_list()"
      ],
      "execution_count": 133,
      "outputs": []
    },
    {
      "cell_type": "markdown",
      "metadata": {
        "id": "gii5dh0y0yIq",
        "colab_type": "text"
      },
      "source": [
        "Summary plots"
      ]
    },
    {
      "cell_type": "code",
      "metadata": {
        "id": "91VXwnwP_u7b",
        "colab_type": "code",
        "colab": {}
      },
      "source": [
        "fig1, ax0 = plt.subplots(figsize=(8, 4))\n",
        "pos = np.arange(10)\n",
        "ax0.bar(pos, country_sort10_abs, align='center')\n",
        "ax0.set_ylabel('deaths')\n",
        "plt.xticks(pos, country_sort10_abs.index)\n",
        "ax0.set_title(lastDate + ' absolute')\n",
        "ax0.yaxis.grid(True)\n",
        "fig1.autofmt_xdate()\n",
        "\n",
        "fig2, ax0 = plt.subplots(figsize=(8, 4))\n",
        "pos = np.arange(10)\n",
        "ax0.bar(pos, country_sort10_rel, align='center')\n",
        "ax0.set_ylabel('deaths')\n",
        "plt.xticks(pos, country_sort10_rel.index)\n",
        "ax0.set_title(lastDate+ ' per million')\n",
        "ax0.yaxis.grid(True)\n",
        "fig2.autofmt_xdate()"
      ],
      "execution_count": null,
      "outputs": []
    },
    {
      "cell_type": "markdown",
      "metadata": {
        "id": "91Yl_q_EA2a8",
        "colab_type": "text"
      },
      "source": [
        "Time series plots"
      ]
    },
    {
      "cell_type": "code",
      "metadata": {
        "id": "_x5U6svY00pQ",
        "colab_type": "code",
        "colab": {}
      },
      "source": [
        "\n",
        "# plot values per country and comparing between countries\n",
        "fig10, (ax10, ax11) = plt.subplots(ncols=2, figsize=(10, 6))\n",
        "fig11, (ax12, ax13) = plt.subplots(ncols=2, figsize=(10, 6))\n",
        "\n",
        "for country in list_of_countries:\n",
        "  # number of deaths\n",
        "  n_death_country_abs,n_death_country_rel = Country(data_death,country_population, country).nvalues()\n",
        "  n_death_daily = daily_values(n_death_country_abs)\n",
        "  # number of confirmed cases\n",
        "  n_conf_country_abs,n_conf_country_rel  = Country(data_conf, country_population, country).nvalues()\n",
        "  n_conf_daily = daily_values(n_conf_country_abs)\n",
        "\n",
        "  # plot per country\n",
        "  fig1, (ax0, ax1) = plt.subplots(nrows=2, figsize=(8, 6))\n",
        "  ax0.plot(dates, n_death_country_abs, label='deaths')\n",
        "  # ax0.plot(dates,n_conf_country,label='confirmed cases')\n",
        "  ax0.set_ylabel('total', fontsize=12)\n",
        "  ax0.set_title(country + ' absolute')\n",
        "  format_plot(fig1, ax0)\n",
        "\n",
        "  ax1.plot(dates, n_death_daily, label='deaths daily')\n",
        "  # ax1.plot(dates,n_conf_daily,label='confirmed cases')\n",
        "  ax1.plot(dates, n_death_daily.rolling(window_size).mean().to_list(),'r--',label='deaths 7day av')\n",
        "  ax1.set_ylabel('daily', fontsize=12)\n",
        "  format_plot(fig1, ax1)\n",
        "\n",
        "  # compare countries\n",
        "  ax10.plot(dates, n_death_country_abs, label=country)\n",
        "  ax10.set_ylabel('death', fontsize=12)\n",
        "  ax10.set_title('absolute')\n",
        "  format_plot(fig10, ax10)\n",
        "\n",
        "  ax11.semilogy(dates, n_death_country_abs, label=country)\n",
        "  ax11.set_ylabel('death', fontsize=12)\n",
        "  ax10.set_title('absolute')        \n",
        "  format_plot(fig10, ax11)\n",
        "        \n",
        "  ax12.plot(dates, n_death_country_rel, label=country)\n",
        "  ax12.set_ylabel('death', fontsize=12)\n",
        "  ax12.set_title('relative per million')\n",
        "  format_plot(fig11, ax12)\n",
        "\n",
        "  ax13.semilogy(dates, n_death_country_rel, label=country)\n",
        "  ax13.set_ylabel('death', fontsize=12)\n",
        "  ax12.set_title('relative per million')        \n",
        "  format_plot(fig11, ax13)\n"
      ],
      "execution_count": null,
      "outputs": []
    },
    {
      "cell_type": "code",
      "metadata": {
        "id": "crv-aeWg7ZpO",
        "colab_type": "code",
        "colab": {}
      },
      "source": [
        ""
      ],
      "execution_count": null,
      "outputs": []
    }
  ]
}